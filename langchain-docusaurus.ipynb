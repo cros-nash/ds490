{
 "cells": [
  {
   "cell_type": "code",
   "execution_count": 3,
   "id": "654c6c56",
   "metadata": {},
   "outputs": [],
   "source": [
    "import os\n",
    "os.environ[\"USER_AGENT\"] = \"Mozilla/5.0 (Windows NT 10.0; Win64; x64) AppleWebKit/537.36 (KHTML, like Gecko) Chrome/91.0.4472.124 Safari/537.36\"\n",
    "\n",
    "\n",
    "from langchain_community.document_loaders import DocusaurusLoader"
   ]
  },
  {
   "cell_type": "code",
   "execution_count": 4,
   "id": "4994327e",
   "metadata": {},
   "outputs": [],
   "source": [
    "# fixes a bug with asyncio and jupyter\n",
    "import nest_asyncio\n",
    "\n",
    "nest_asyncio.apply()"
   ]
  },
  {
   "cell_type": "code",
   "execution_count": 6,
   "id": "ad3d0a0a",
   "metadata": {},
   "outputs": [
    {
     "name": "stderr",
     "output_type": "stream",
     "text": [
      "Fetching pages: 100%|##########| 205/205 [00:09<00:00, 21.29it/s]\n"
     ]
    }
   ],
   "source": [
    "loader = DocusaurusLoader(\n",
    "    \"https://crawlee.dev/python/\",\n",
    "    filter_urls=[\n",
    "        \"https://crawlee.dev/python/api\"\n",
    "    ],\n",
    ")\n",
    "documents = loader.load()"
   ]
  },
  {
   "cell_type": "code",
   "execution_count": null,
   "id": "df0fffaf",
   "metadata": {},
   "outputs": [
    {
     "data": {
      "text/plain": [
       "Document(metadata={'source': 'https://crawlee.dev/python/api/class/_CurlImpersonateResponse', 'loc': 'https://crawlee.dev/python/api/class/_CurlImpersonateResponse', 'changefreq': 'weekly', 'priority': '0.5'}, page_content='_CurlImpersonateResponse | API | Crawlee for Python · Fast, reliable Python web crawlers.Skip to main contentCrawlee for PythonDocsExamplesAPIChangelogBlogNextNext2.21.3Search documentation...Get startedCrawlee for PythonOverviewClassesAbstract classesData structuresErrorsEvent payloadsFunctionsOn this page_CurlImpersonateResponse Adapter class for curl_cffi.requests.Response to conform to the HttpResponse protocol.Index Methods__init__readPropertiesheadershttp_versionstatus_codeMethods __init__ __init__(response): NoneParametersresponse: ResponseReturns Noneread read(): bytesReturns bytesProperties headersheaders:  HttpHeadershttp_versionhttp_version:  strstatus_codestatus_code:  intPage OptionsHide Inherited __init__ read headers http_version status_codeDocsGuidesExamplesAPI referenceChangelogProductDiscordStack OverflowTwitterYouTubeMoreApify platformDocusaurusGitHubCrawlee is forever free and open source© 2025 Apify\\n\\n\\n')"
      ]
     },
     "execution_count": 8,
     "metadata": {},
     "output_type": "execute_result"
    }
   ],
   "source": [
    "documents[5].page_content"
   ]
  }
 ],
 "metadata": {
  "kernelspec": {
   "display_name": ".venv",
   "language": "python",
   "name": "python3"
  },
  "language_info": {
   "codemirror_mode": {
    "name": "ipython",
    "version": 3
   },
   "file_extension": ".py",
   "mimetype": "text/x-python",
   "name": "python",
   "nbconvert_exporter": "python",
   "pygments_lexer": "ipython3",
   "version": "3.12.6"
  }
 },
 "nbformat": 4,
 "nbformat_minor": 5
}
